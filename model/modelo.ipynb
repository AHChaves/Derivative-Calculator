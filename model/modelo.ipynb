{
 "cells": [
  {
   "cell_type": "code",
   "execution_count": 1,
   "metadata": {},
   "outputs": [
    {
     "name": "stdout",
     "output_type": "stream",
     "text": [
      "quantos elementos serão\n",
      "coeficiente de a e b para ax^b\n"
     ]
    }
   ],
   "source": [
    "import string\n",
    "\n",
    "print(\"quantos elementos serão\")\n",
    "elementos = int(input())\n",
    "letras = string.ascii_lowercase\n",
    "coeficientes = []\n",
    "potencia = []\n",
    "count = 0\n",
    "print(\"coeficiente de a e b para ax^b\")\n",
    "while True:\n",
    "\n",
    "    print(count,end=\"\\n\")\n",
    "    a = input(\"valor de a\")\n",
    "    b = input(\"valor de b\")\n",
    "    if a != 's' and  b != 's':\n",
    "        count +=1\n",
    "        coeficientes.append(int(a))\n",
    "        potencia.append(int(b))    \n",
    "    else:\n",
    "        break\n",
    "    "
   ]
  }
 ],
 "metadata": {
  "kernelspec": {
   "display_name": "Python 3",
   "language": "python",
   "name": "python3"
  },
  "language_info": {
   "codemirror_mode": {
    "name": "ipython",
    "version": 3
   },
   "file_extension": ".py",
   "mimetype": "text/x-python",
   "name": "python",
   "nbconvert_exporter": "python",
   "pygments_lexer": "ipython3",
   "version": "3.12.0"
  }
 },
 "nbformat": 4,
 "nbformat_minor": 2
}
