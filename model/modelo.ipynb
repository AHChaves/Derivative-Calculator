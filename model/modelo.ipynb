{
 "cells": [
  {
   "cell_type": "code",
   "execution_count": null,
   "metadata": {},
   "outputs": [],
   "source": [
    "import string\n",
    "\n",
    "print(\"quantos elementos serão\")\n",
    "elementos = int(input())\n",
    "letras = string.ascii_lowercase\n",
    "coeficientes = []\n",
    "potencia = []\n",
    "count = 0\n",
    "while True:\n",
    "\n",
    "    print(\"coeficiente de a e b para ax^b\")\n",
    "    a = input(\"valor de a\")\n",
    "    b = input(\"valor de b\")\n",
    "    if coef != 's':\n",
    "        count +=1    \n",
    "    "
   ]
  }
 ],
 "metadata": {
  "language_info": {
   "name": "python"
  }
 },
 "nbformat": 4,
 "nbformat_minor": 2
}
